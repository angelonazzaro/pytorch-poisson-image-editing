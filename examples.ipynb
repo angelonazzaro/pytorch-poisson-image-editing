{
 "cells": [
  {
   "cell_type": "code",
   "execution_count": null,
   "metadata": {},
   "outputs": [],
   "source": [
    "import matplotlib.pyplot as plt\n",
    "import numpy as np\n",
    "from PIL import Image\n",
    "\n",
    "from scipy.ndimage import binary_erosion\n",
    "import torch\n",
    "from torchvision.transforms import functional as TF\n",
    "\n",
    "import pietorch\n",
    "# Examples to try: image, gif, brain??"
   ]
  },
  {
   "cell_type": "markdown",
   "metadata": {
    "pycharm": {
     "name": "#%% md\n"
    }
   },
   "source": [
    "# Poisson image editing examples\n",
    "## Image (2D)"
   ]
  },
  {
   "cell_type": "code",
   "execution_count": null,
   "metadata": {
    "pycharm": {
     "name": "#%%\n"
    }
   },
   "outputs": [],
   "source": [
    "img_1_png = Image.open('example_images/mug.png')\n",
    "img_1 = Image.new(\"RGB\", img_1_png.size, (255, 255, 255))\n",
    "img_1.paste(img_1_png, mask=img_1_png.getchannel('A'))\n",
    "\n",
    "img_2 = Image.open('example_images/brick_texture.jpg')\n",
    "\n",
    "fig, ax = plt.subplots(ncols=2, figsize=(10, 5))\n",
    "ax[0].imshow(img_1)\n",
    "ax[1].imshow(img_2)"
   ]
  },
  {
   "cell_type": "code",
   "execution_count": null,
   "metadata": {
    "pycharm": {
     "name": "#%%\n"
    }
   },
   "outputs": [],
   "source": [
    "target = TF.to_tensor(img_1)\n",
    "\n",
    "source = TF.resize(TF.to_tensor(img_2), [512, 512])\n",
    "\n",
    "corner_coord = torch.tensor([144, 100])\n",
    "\n",
    "mask = torch.ones(source.shape[1:])\n",
    "\n",
    "fig, ax = plt.subplots(ncols=3, figsize=(15, 5))\n",
    "ax[0].imshow(torch.movedim(target, 0, -1))\n",
    "ax[1].imshow(torch.movedim(source, 0, -1))\n",
    "ax[2].imshow(mask)"
   ]
  },
  {
   "cell_type": "code",
   "execution_count": null,
   "metadata": {
    "pycharm": {
     "name": "#%%\n"
    }
   },
   "outputs": [],
   "source": [
    "res = pietorch.blend(target, source, torch.zeros(source.shape[1:]), corner_coord, True, channels_dim=0)\n",
    "\n",
    "\n",
    "plt.imshow(torch.movedim(res, 0, -1))"
   ]
  },
  {
   "cell_type": "code",
   "execution_count": null,
   "outputs": [],
   "source": [
    "recon_diff = torch.abs(res - target)\n",
    "\n",
    "print(torch.min(recon_diff), '-', torch.mean(recon_diff), '/', torch.median(recon_diff), '-', torch.max(recon_diff))\n",
    "\n",
    "plt.imshow(torch.movedim(recon_diff, 0, -1))"
   ],
   "metadata": {
    "collapsed": false,
    "pycharm": {
     "name": "#%%\n"
    }
   }
  },
  {
   "cell_type": "code",
   "execution_count": null,
   "outputs": [],
   "source": [
    "res = pietorch.blend(target, source, mask, corner_coord, True, channels_dim=0)\n",
    "\n",
    "\n",
    "plt.imshow(torch.movedim(res, 0, -1))"
   ],
   "metadata": {
    "collapsed": false,
    "pycharm": {
     "name": "#%%\n"
    }
   }
  },
  {
   "cell_type": "code",
   "execution_count": null,
   "metadata": {
    "pycharm": {
     "name": "#%%\n"
    }
   },
   "outputs": [],
   "source": [
    "diff = torch.abs(res - target)\n",
    "print(torch.max(diff))\n",
    "plt.imshow(torch.movedim(diff, 0, -1))\n"
   ]
  },
  {
   "cell_type": "code",
   "execution_count": null,
   "metadata": {
    "pycharm": {
     "name": "#%%\n"
    }
   },
   "outputs": [],
   "source": [
    "import cv2\n",
    "\n",
    "cv_img_1 = np.array(img_1)\n",
    "cv_img_2 = np.array(TF.resize(img_2, [512, 512]))\n",
    "cv_mask = mask.numpy().astype(np.uint8) * 255\n",
    "cv_centre_coord = (corner_coord.numpy() + np.array(cv_mask.shape) // 2)\n",
    "\n",
    "cv_res = cv2.seamlessClone(cv_img_2,\n",
    "                           cv_img_1,\n",
    "                           cv_mask,\n",
    "                           tuple(cv_centre_coord[::-1]),\n",
    "                           cv2.NORMAL_CLONE)\n",
    "\n",
    "plt.imshow(cv_res)"
   ]
  },
  {
   "cell_type": "code",
   "execution_count": null,
   "metadata": {
    "pycharm": {
     "name": "#%%\n"
    }
   },
   "outputs": [],
   "source": [
    "cv_diff = np.abs(cv_img_1.astype(int) - cv_res.astype(int))\n",
    "print(np.max(cv_diff))\n",
    "\n",
    "plt.imshow(cv_diff)"
   ]
  },
  {
   "cell_type": "code",
   "execution_count": null,
   "metadata": {
    "pycharm": {
     "name": "#%%\n"
    }
   },
   "outputs": [],
   "source": [
    "cv_res = cv2.seamlessClone(cv_img_2,\n",
    "                           cv_img_1,\n",
    "                           cv_mask,\n",
    "                           tuple(cv_centre_coord[::-1]),\n",
    "                           cv2.MIXED_CLONE)\n",
    "\n",
    "plt.imshow(cv_res)"
   ]
  },
  {
   "cell_type": "code",
   "execution_count": null,
   "metadata": {
    "pycharm": {
     "name": "#%%\n"
    }
   },
   "outputs": [],
   "source": [
    "cv_diff = np.abs(cv_img_1.astype(int) - cv_res.astype(int))\n",
    "print(np.max(cv_diff))\n",
    "\n",
    "plt.imshow(cv_diff)"
   ]
  },
  {
   "cell_type": "code",
   "execution_count": null,
   "metadata": {
    "pycharm": {
     "name": "#%%\n"
    }
   },
   "outputs": [],
   "source": [
    "import imageio\n",
    "\n",
    "def read_gif(file_path):\n",
    "    return torch.stack([TF.to_tensor(im) for im in imageio.get_reader(file_path)])\n",
    "\n",
    "wave = read_gif('example_images/wave.gif')[:, :3]\n",
    "splat = read_gif('example_images/splat.gif')[:, :3]"
   ]
  },
  {
   "cell_type": "code",
   "execution_count": null,
   "outputs": [],
   "source": [
    "plt.imshow(torch.movedim(wave[0], 0, -1))"
   ],
   "metadata": {
    "collapsed": false,
    "pycharm": {
     "name": "#%%\n"
    }
   }
  },
  {
   "cell_type": "code",
   "execution_count": null,
   "metadata": {
    "pycharm": {
     "name": "#%%\n"
    }
   },
   "outputs": [],
   "source": [
    "target_gif = wave\n",
    "\n",
    "source_gif = TF.resize(torch.cat([splat, torch.flip(splat, [0])]), (300, 300))\n",
    "\n",
    "corner_coord = torch.tensor([4, 100, 100])\n",
    "\n",
    "mask_gif = torch.ones((source_gif.shape[0], *source_gif.shape[2:]))"
   ]
  },
  {
   "cell_type": "code",
   "execution_count": null,
   "outputs": [],
   "source": [
    "res_gif = pietorch.blend(target_gif, source_gif, mask_gif, corner_coord, True, channels_dim=1)"
   ],
   "metadata": {
    "collapsed": false,
    "pycharm": {
     "name": "#%%\n"
    }
   }
  },
  {
   "cell_type": "code",
   "execution_count": null,
   "outputs": [],
   "source": [
    "%matplotlib notebook\n",
    "from matplotlib.animation import FuncAnimation\n",
    "\n",
    "gif = res_gif\n",
    "\n",
    "anim_fig, anim_ax = plt.subplots()\n",
    "anim_ax.set_axis_off()\n",
    "img_ax = plt.imshow(torch.movedim(gif[0], 0, -1))\n",
    "\n",
    "def animate_gif(frame_num):\n",
    "    img_ax.set_data(torch.movedim(gif[frame_num], 0, -1))\n",
    "    return img_ax\n",
    "\n",
    "anim =  FuncAnimation(anim_fig, animate_gif, frames=len(gif), interval=15)\n",
    "plt.show()"
   ],
   "metadata": {
    "collapsed": false,
    "pycharm": {
     "name": "#%%\n"
    }
   }
  },
  {
   "cell_type": "code",
   "execution_count": null,
   "outputs": [],
   "source": [
    "anim.save('example_images/blended.gif', fps=30)"
   ],
   "metadata": {
    "collapsed": false,
    "pycharm": {
     "name": "#%%\n"
    }
   }
  },
  {
   "cell_type": "code",
   "execution_count": null,
   "outputs": [],
   "source": [],
   "metadata": {
    "collapsed": false,
    "pycharm": {
     "name": "#%%\n"
    }
   }
  }
 ],
 "metadata": {
  "kernelspec": {
   "display_name": "Python 3 (ipykernel)",
   "language": "python",
   "name": "python3"
  },
  "language_info": {
   "codemirror_mode": {
    "name": "ipython",
    "version": 3
   },
   "file_extension": ".py",
   "mimetype": "text/x-python",
   "name": "python",
   "nbconvert_exporter": "python",
   "pygments_lexer": "ipython3",
   "version": "3.8.10"
  }
 },
 "nbformat": 4,
 "nbformat_minor": 1
}